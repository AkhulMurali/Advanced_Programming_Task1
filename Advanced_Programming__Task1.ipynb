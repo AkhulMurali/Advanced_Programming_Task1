{
  "nbformat": 4,
  "nbformat_minor": 0,
  "metadata": {
    "colab": {
      "provenance": []
    },
    "kernelspec": {
      "name": "python3",
      "display_name": "Python 3"
    },
    "language_info": {
      "name": "python"
    }
  },
  "cells": [
    {
      "cell_type": "markdown",
      "source": [
        "# Imports all sales data into a usable format."
      ],
      "metadata": {
        "id": "szk4kpLL9Erk"
      }
    },
    {
      "cell_type": "code",
      "execution_count": null,
      "metadata": {
        "colab": {
          "base_uri": "https://localhost:8080/"
        },
        "id": "S5Iir0lX4bGl",
        "outputId": "f18b1825-41ca-4174-c752-71f8bedb7888"
      },
      "outputs": [
        {
          "output_type": "stream",
          "name": "stdout",
          "text": [
            "         Date   Product     Category  Quantity  Price  Discount\n",
            "0  2024-08-01  ProductA  Electronics      10.0  200.0      0.05\n",
            "1  2024-08-01  ProductB         Home       5.0  150.0      0.10\n",
            "2  2024-08-02  ProductA  Electronics       7.0  200.0       NaN\n",
            "3  2024-08-02  ProductC         Home       3.0  100.0      0.00\n",
            "4  2024-08-03  ProductD    Furniture       4.0  300.0      0.15\n"
          ]
        }
      ],
      "source": [
        "import pandas as pd\n",
        "import os\n",
        "\n",
        "# List of uploaded file paths\n",
        "file_paths = [\n",
        "    '/content/data_1.csv',\n",
        "    '/content/data_2.csv',\n",
        "    '/content/data_3.csv',\n",
        "    '/content/data_4.csv'\n",
        "]\n",
        "\n",
        "# List to hold DataFrames for each file\n",
        "dataframes = []\n",
        "\n",
        "# Load each file into a DataFrame and append to the list\n",
        "for file_path in file_paths:\n",
        "    df = pd.read_csv(file_path)\n",
        "    dataframes.append(df)\n",
        "\n",
        "# Concatenate all DataFrames into one\n",
        "all_sales_data = pd.concat(dataframes, ignore_index=True)\n",
        "\n",
        "# Display the first few rows of the combined DataFrame\n",
        "print(all_sales_data.head())\n"
      ]
    },
    {
      "cell_type": "markdown",
      "source": [
        "# Cleans the data by removing errors and filling in missing values."
      ],
      "metadata": {
        "id": "vhWndooP87Pt"
      }
    },
    {
      "cell_type": "code",
      "source": [
        "all_sales_data.drop_duplicates(inplace=True)\n",
        "print(all_sales_data.head())"
      ],
      "metadata": {
        "colab": {
          "base_uri": "https://localhost:8080/"
        },
        "id": "6YLUr8Vn5YMy",
        "outputId": "f5e0fed3-c056-4f1d-ec3d-157ece12f5fb"
      },
      "execution_count": null,
      "outputs": [
        {
          "output_type": "stream",
          "name": "stdout",
          "text": [
            "         Date   Product     Category  Quantity  Price  Discount\n",
            "0  2024-08-01  ProductA  Electronics      10.0  200.0      0.05\n",
            "1  2024-08-01  ProductB         Home       5.0  150.0      0.10\n",
            "2  2024-08-02  ProductA  Electronics       7.0  200.0       NaN\n",
            "3  2024-08-02  ProductC         Home       3.0  100.0      0.00\n",
            "4  2024-08-03  ProductD    Furniture       4.0  300.0      0.15\n"
          ]
        }
      ]
    },
    {
      "cell_type": "code",
      "source": [
        "all_sales_data.fillna({\n",
        "    'Date': 0,\n",
        "    'Product': 'Unknown',\n",
        "    'Category':'Unknown',\n",
        "    'Quantity': 0,\n",
        "    'Price': 0,\n",
        "    'Discount':0\n",
        "\n",
        "}, inplace=True)\n",
        "print(all_sales_data.head())"
      ],
      "metadata": {
        "colab": {
          "base_uri": "https://localhost:8080/"
        },
        "id": "yUboRrUE7i1h",
        "outputId": "b3720b9b-960b-4b70-c295-dc328d67538e"
      },
      "execution_count": null,
      "outputs": [
        {
          "output_type": "stream",
          "name": "stdout",
          "text": [
            "         Date   Product     Category  Quantity  Price  Discount\n",
            "0  2024-08-01  ProductA  Electronics      10.0  200.0      0.05\n",
            "1  2024-08-01  ProductB         Home       5.0  150.0      0.10\n",
            "2  2024-08-02  ProductA  Electronics       7.0  200.0      0.00\n",
            "3  2024-08-02  ProductC         Home       3.0  100.0      0.00\n",
            "4  2024-08-03  ProductD    Furniture       4.0  300.0      0.15\n"
          ]
        }
      ]
    },
    {
      "cell_type": "markdown",
      "source": [
        "# Calculates additional information like net price (Net_Price = Price × (1 - Discount)) and\n",
        "# total revenue (Total_Revenue = Quantity × Net_Price) for each sale."
      ],
      "metadata": {
        "id": "BSd1ff0K9O8l"
      }
    },
    {
      "cell_type": "code",
      "source": [
        "# (Net_Price = Price × (1 - Discount))\n",
        "all_sales_data['Net_Price'] = all_sales_data['Price'] * (1 - all_sales_data['Discount'])\n",
        "\n",
        "# (Total_Revenue = Quantity × Net_Price)\n",
        "all_sales_data['Total_Revenue'] = all_sales_data['Quantity'] * all_sales_data['Net_Price']\n",
        "\n",
        "print(all_sales_data.head())\n"
      ],
      "metadata": {
        "colab": {
          "base_uri": "https://localhost:8080/"
        },
        "id": "2F2x78Gu8aGO",
        "outputId": "68c84a61-3b5b-4a69-8415-83b48314e75f"
      },
      "execution_count": null,
      "outputs": [
        {
          "output_type": "stream",
          "name": "stdout",
          "text": [
            "         Date   Product     Category  Quantity  Price  Discount  Net_Price  \\\n",
            "0  2024-08-01  ProductA  Electronics      10.0  200.0      0.05      190.0   \n",
            "1  2024-08-01  ProductB         Home       5.0  150.0      0.10      135.0   \n",
            "2  2024-08-02  ProductA  Electronics       7.0  200.0      0.00      200.0   \n",
            "3  2024-08-02  ProductC         Home       3.0  100.0      0.00      100.0   \n",
            "4  2024-08-03  ProductD    Furniture       4.0  300.0      0.15      255.0   \n",
            "\n",
            "   Total_Revenue  \n",
            "0         1900.0  \n",
            "1          675.0  \n",
            "2         1400.0  \n",
            "3          300.0  \n",
            "4         1020.0  \n"
          ]
        }
      ]
    },
    {
      "cell_type": "markdown",
      "source": [
        "# Combines data from all stores into a single overview"
      ],
      "metadata": {
        "id": "xl7qHGtE_Yes"
      }
    },
    {
      "cell_type": "code",
      "source": [
        "summary = all_sales_data.groupby('Product').agg({\n",
        "    'Quantity': 'sum',\n",
        "    'Total_Revenue': 'sum'\n",
        "}).reset_index()\n",
        "print(all_sales_data.head())"
      ],
      "metadata": {
        "colab": {
          "base_uri": "https://localhost:8080/"
        },
        "id": "z2BcxdFZ_UbL",
        "outputId": "b9202c06-4d3a-44d0-f157-0263186d86a6"
      },
      "execution_count": null,
      "outputs": [
        {
          "output_type": "stream",
          "name": "stdout",
          "text": [
            "         Date   Product     Category  Quantity  Price  Discount  Net_Price  \\\n",
            "0  2024-08-01  ProductA  Electronics      10.0  200.0      0.05      190.0   \n",
            "1  2024-08-01  ProductB         Home       5.0  150.0      0.10      135.0   \n",
            "2  2024-08-02  ProductA  Electronics       7.0  200.0      0.00      200.0   \n",
            "3  2024-08-02  ProductC         Home       3.0  100.0      0.00      100.0   \n",
            "4  2024-08-03  ProductD    Furniture       4.0  300.0      0.15      255.0   \n",
            "\n",
            "   Total_Revenue  \n",
            "0         1900.0  \n",
            "1          675.0  \n",
            "2         1400.0  \n",
            "3          300.0  \n",
            "4         1020.0  \n"
          ]
        }
      ]
    },
    {
      "cell_type": "markdown",
      "source": [
        "# Saves the summary results to a new CSV file."
      ],
      "metadata": {
        "id": "W3F6gscNDkt9"
      }
    },
    {
      "cell_type": "code",
      "source": [
        "output_path = os.path.join('/content/data_1.csv', '/content/data_2.csv','/content/data_3.csv','/content/summary_sales _data.csv')\n",
        "summary.to_csv(output_path, index=False)"
      ],
      "metadata": {
        "id": "yGNwza-s_Wey"
      },
      "execution_count": 19,
      "outputs": []
    }
  ]
}